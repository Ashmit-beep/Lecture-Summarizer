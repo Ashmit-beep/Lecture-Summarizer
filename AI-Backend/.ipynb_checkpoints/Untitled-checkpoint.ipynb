{
 "cells": [
  {
   "cell_type": "code",
   "execution_count": 1,
   "id": "7627e9fe-d543-402c-b6e2-84121157ef06",
   "metadata": {},
   "outputs": [
    {
     "name": "stderr",
     "output_type": "stream",
     "text": [
      "/Users/ashmitagrawal/Desktop/python/lectureSummarizer/AI-Backend/venv/lib/python3.13/site-packages/tqdm/auto.py:21: TqdmWarning: IProgress not found. Please update jupyter and ipywidgets. See https://ipywidgets.readthedocs.io/en/stable/user_install.html\n",
      "  from .autonotebook import tqdm as notebook_tqdm\n",
      "Device set to use mps:0\n"
     ]
    },
    {
     "ename": "NameError",
     "evalue": "name 'false' is not defined",
     "output_type": "error",
     "traceback": [
      "\u001b[31m---------------------------------------------------------------------------\u001b[39m",
      "\u001b[31mNameError\u001b[39m                                 Traceback (most recent call last)",
      "\u001b[36mCell\u001b[39m\u001b[36m \u001b[39m\u001b[32mIn[1]\u001b[39m\u001b[32m, line 6\u001b[39m\n\u001b[32m      3\u001b[39m \u001b[38;5;28;01mfrom\u001b[39;00m\u001b[38;5;250m \u001b[39m\u001b[34;01mtransformers\u001b[39;00m\u001b[38;5;250m \u001b[39m\u001b[38;5;28;01mimport\u001b[39;00m pipeline\n\u001b[32m      5\u001b[39m summarizer = pipeline(\u001b[33m\"\u001b[39m\u001b[33msummarization\u001b[39m\u001b[33m\"\u001b[39m, model = \u001b[33m\"\u001b[39m\u001b[33mfacebook/bart-large-cnn\u001b[39m\u001b[33m\"\u001b[39m)\n\u001b[32m----> \u001b[39m\u001b[32m6\u001b[39m summary = summarizer( transcript, max_length = \u001b[32m100\u001b[39m, min_length = \u001b[32m30\u001b[39m, do_sample = \u001b[43mfalse\u001b[49m)\n\u001b[32m      7\u001b[39m \u001b[38;5;28mprint\u001b[39m (\u001b[33m\"\u001b[39m\u001b[33mSummary: \u001b[39m\u001b[38;5;130;01m\\n\u001b[39;00m\u001b[33m\"\u001b[39m, summary[\u001b[32m0\u001b[39m] [\u001b[33m'\u001b[39m\u001b[33msummary_text\u001b[39m\u001b[33m'\u001b[39m])\n\u001b[32m      9\u001b[39m qg = pipeline(\n\u001b[32m     10\u001b[39m     \u001b[33m\"\u001b[39m\u001b[33mtext2text-generation\u001b[39m\u001b[33m\"\u001b[39m,\n\u001b[32m     11\u001b[39m     model=\u001b[33m\"\u001b[39m\u001b[33mvalhalla/t5-small-qg-hl\u001b[39m\u001b[33m\"\u001b[39m,\n\u001b[32m     12\u001b[39m     device= -\u001b[32m1\u001b[39m\n\u001b[32m     13\u001b[39m )\n",
      "\u001b[31mNameError\u001b[39m: name 'false' is not defined"
     ]
    }
   ],
   "source": [
    "transcript = \"Transcript:   Hello my name is Oshmet and I'm from Nepal I'm doing my senior year in UNM that's it\"\n",
    "\n",
    "from transformers import pipeline\n",
    "\n",
    "summarizer = pipeline(\"summarization\", model = \"facebook/bart-large-cnn\")\n",
    "summary = summarizer( transcript, max_length = 100, min_length = 30, do_sample = False)\n",
    "print (\"Summary: \\n\", summary[0] ['summary_text'])\n",
    "\n",
    "qg = pipeline(\n",
    "    \"text2text-generation\",\n",
    "    model=\"valhalla/t5-small-qg-hl\",\n",
    "    device= -1\n",
    ")\n",
    "# prefix transcript so model knows the task\n",
    "input_text = \"generate questions: \" + transcript\n",
    "qg_outputs = qg(\n",
    "    input_text,\n",
    "    max_length=64,\n",
    "    num_return_sequences=5,\n",
    ")\n",
    "print(\"\\n=== Quiz Questions ===\")\n",
    "for idx, out in enumerate(qg_outputs, 1):\n",
    "    print(f\"{idx}. {out['generated_text']}\")\n",
    "\n",
    "# import openai\n",
    "# openai.api_key = \"\"\n",
    "# prompt = (\"Generate five quiz questions with answers based on the following transcript: \\n\"\n",
    "#         f\"{transcript}\"\n",
    "#          )\n",
    "# response = openAI.chatCompletion.create(\n",
    "#     model = \"gpt-4o\",\n",
    "#     messages = [{\"role\": \"user\", \"content\": prompt}],\n",
    "#     max_tokens = 300\n",
    "# )\n",
    "\n",
    "##print(\"Quiz Questions: \\n\", response.choices[0].message.content)\n"
   ]
  },
  {
   "cell_type": "code",
   "execution_count": null,
   "id": "1de34e76-1d51-47ab-a26c-e6e88d222075",
   "metadata": {},
   "outputs": [],
   "source": []
  }
 ],
 "metadata": {
  "kernelspec": {
   "display_name": "Python 3 (ipykernel)",
   "language": "python",
   "name": "python3"
  },
  "language_info": {
   "codemirror_mode": {
    "name": "ipython",
    "version": 3
   },
   "file_extension": ".py",
   "mimetype": "text/x-python",
   "name": "python",
   "nbconvert_exporter": "python",
   "pygments_lexer": "ipython3",
   "version": "3.13.3"
  }
 },
 "nbformat": 4,
 "nbformat_minor": 5
}
